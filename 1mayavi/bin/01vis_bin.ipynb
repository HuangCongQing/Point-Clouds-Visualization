{
 "cells": [
  {
   "cell_type": "markdown",
   "metadata": {},
   "source": [
    "## 可视化\n",
    "https://www.yuque.com/huangzhongqing/hre6tf/uwe6sh#xnVS8"
   ]
  },
  {
   "cell_type": "code",
   "execution_count": 1,
   "metadata": {},
   "outputs": [],
   "source": [
    "import numpy as np\n",
    "import mayavi.mlab"
   ]
  },
  {
   "cell_type": "code",
   "execution_count": 2,
   "metadata": {},
   "outputs": [],
   "source": [
    " \n",
    "# lidar_path换成自己的.bin文件路径\n",
    "# pointcloud = np.fromfile(str(\"lidar_path\"), dtype=np.float32, count=-1).reshape([-1, 4])\n",
    "pointcloud = np.fromfile(str(\"./4_Truck_0.bin\"), dtype=np.float32, count=-1).reshape([-1, 4])\n",
    "# pointcloud = np.fromfile(str(\"./000008.bin\"), dtype=np.float32, count=-1).reshape([-1, 4])\n",
    " \n",
    "x = pointcloud[:, 0]  # x position of point\n",
    "y = pointcloud[:, 1]  # y position of point\n",
    "z = pointcloud[:, 2]  # z position of point\n",
    " \n",
    "r = pointcloud[:, 3]  # reflectance value of point\n",
    "d = np.sqrt(x ** 2 + y ** 2)  # Map Distance from sensor\n",
    " \n",
    "degr = np.degrees(np.arctan(z / d))\n",
    " \n",
    "vals = 'height'\n",
    "if vals == \"height\":\n",
    "    col = z\n",
    "else:\n",
    "    col = d\n",
    " \n",
    "fig = mayavi.mlab.figure(bgcolor=(0, 0, 0), size=(640, 500))\n",
    "mayavi.mlab.points3d(x, y, z,\n",
    "                     col,  # Values used for Color\n",
    "                     mode=\"point\",\n",
    "                     colormap='spectral',  # 'bone', 'copper', 'gnuplot'\n",
    "                     # color=(0, 1, 0),   # Used a fixed (r,g,b) instead\n",
    "                     figure=fig,\n",
    "                     )\n",
    " \n",
    "mayavi.mlab.show()"
   ]
  },
  {
   "cell_type": "code",
   "execution_count": null,
   "metadata": {},
   "outputs": [],
   "source": []
  }
 ],
 "metadata": {
  "interpreter": {
   "hash": "33889632b9843cd8adbd3566ea201a4089a307e6b2cea65a3733113e94cf9c17"
  },
  "kernelspec": {
   "display_name": "Python 3.6.12 64-bit ('torch': conda)",
   "name": "python3"
  },
  "language_info": {
   "codemirror_mode": {
    "name": "ipython",
    "version": 3
   },
   "file_extension": ".py",
   "mimetype": "text/x-python",
   "name": "python",
   "nbconvert_exporter": "python",
   "pygments_lexer": "ipython3",
   "version": "3.7.5"
  },
  "orig_nbformat": 4
 },
 "nbformat": 4,
 "nbformat_minor": 2
}
