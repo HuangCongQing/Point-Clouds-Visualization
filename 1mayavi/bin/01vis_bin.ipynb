{
 "cells": [
  {
   "cell_type": "markdown",
   "source": [
    "## 可视化\n",
    "https://www.yuque.com/huangzhongqing/hre6tf/uwe6sh#xnVS8"
   ],
   "metadata": {}
  },
  {
   "cell_type": "code",
   "execution_count": 1,
   "source": [
    "import numpy as np\n",
    "import mayavi.mlab"
   ],
   "outputs": [],
   "metadata": {}
  },
  {
   "cell_type": "code",
   "execution_count": 4,
   "source": [
    " \n",
    "# lidar_path换成自己的.bin文件路径\n",
    "# pointcloud = np.fromfile(str(\"lidar_path\"), dtype=np.float32, count=-1).reshape([-1, 4])\n",
    "# pointcloud = np.fromfile(str(\"./4_Truck_0.bin\"), dtype=np.float32, count=-1).reshape([-1, 4])\n",
    "pointcloud = np.fromfile(str(\"./000008.bin\"), dtype=np.float32, count=-1).reshape([-1, 4])\n",
    " \n",
    "x = pointcloud[:, 0]  # x position of point\n",
    "y = pointcloud[:, 1]  # y position of point\n",
    "z = pointcloud[:, 2]  # z position of point\n",
    " \n",
    "r = pointcloud[:, 3]  # reflectance value of point\n",
    "d = np.sqrt(x ** 2 + y ** 2)  # Map Distance from sensor\n",
    " \n",
    "degr = np.degrees(np.arctan(z / d))\n",
    " \n",
    "vals = 'height'\n",
    "if vals == \"height\":\n",
    "    col = z\n",
    "else:\n",
    "    col = d\n",
    " \n",
    "fig = mayavi.mlab.figure(bgcolor=(0, 0, 0), size=(640, 500))\n",
    "mayavi.mlab.points3d(x, y, z,\n",
    "                     col,  # Values used for Color\n",
    "                     mode=\"point\",\n",
    "                     colormap='spectral',  # 'bone', 'copper', 'gnuplot'\n",
    "                     # color=(0, 1, 0),   # Used a fixed (r,g,b) instead\n",
    "                     figure=fig,\n",
    "                     )\n",
    " \n",
    "mayavi.mlab.show()"
   ],
   "outputs": [],
   "metadata": {}
  },
  {
   "cell_type": "code",
   "execution_count": null,
   "source": [],
   "outputs": [],
   "metadata": {}
  }
 ],
 "metadata": {
  "orig_nbformat": 4,
  "language_info": {
   "name": "python",
   "version": "3.6.12",
   "mimetype": "text/x-python",
   "codemirror_mode": {
    "name": "ipython",
    "version": 3
   },
   "pygments_lexer": "ipython3",
   "nbconvert_exporter": "python",
   "file_extension": ".py"
  },
  "kernelspec": {
   "name": "python3",
   "display_name": "Python 3.6.12 64-bit ('torch': conda)"
  },
  "interpreter": {
   "hash": "33889632b9843cd8adbd3566ea201a4089a307e6b2cea65a3733113e94cf9c17"
  }
 },
 "nbformat": 4,
 "nbformat_minor": 2
}