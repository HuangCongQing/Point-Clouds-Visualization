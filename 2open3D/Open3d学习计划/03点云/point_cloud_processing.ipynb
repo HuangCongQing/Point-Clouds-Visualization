{
 "metadata": {
  "language_info": {
   "codemirror_mode": {
    "name": "ipython",
    "version": 3
   },
   "file_extension": ".py",
   "mimetype": "text/x-python",
   "name": "python",
   "nbconvert_exporter": "python",
   "pygments_lexer": "ipython3",
   "version": "3.6.12"
  },
  "orig_nbformat": 2,
  "kernelspec": {
   "name": "python3612jvsc74a57bd09e448ea22042ddd26567fb390bbbe4eeefe3b92c7642735c8d963670b078654d",
   "display_name": "Python 3.6.12 64-bit ('common': conda)"
  },
  "metadata": {
   "interpreter": {
    "hash": "9e448ea22042ddd26567fb390bbbe4eeefe3b92c7642735c8d963670b078654d"
   }
  }
 },
 "nbformat": 4,
 "nbformat_minor": 2,
 "cells": [
  {
   "cell_type": "code",
   "execution_count": 1,
   "metadata": {},
   "outputs": [],
   "source": [
    "## 可视化点云\n"
   ]
  },
  {
   "cell_type": "code",
   "execution_count": 7,
   "metadata": {},
   "outputs": [
    {
     "output_type": "stream",
     "name": "stdout",
     "text": [
      "Load a ply point cloud, print it, and render it\nPointCloud with 196133 points.\n[[0.65234375 0.84686458 2.37890625]\n [0.65234375 0.83984375 2.38430572]\n [0.66737998 0.83984375 2.37890625]\n ...\n [2.00839925 2.39453125 1.88671875]\n [2.00390625 2.39488506 1.88671875]\n [2.00390625 2.39453125 1.88793314]]\n"
     ]
    }
   ],
   "source": [
    "import open3d as o3d \n",
    "import numpy as np\n",
    "\n",
    "print(\"Load a ply point cloud, print it, and render it\")\n",
    "pcd = o3d.io.read_point_cloud(\"/home/hcq/python/Point-Clouds-Visualization/2open3D/data/fragment.ply\")\n",
    "print(pcd)\n",
    "print(np.asarray(pcd.points))\n",
    "o3d.visualization.draw_geometries([pcd])"
   ]
  },
  {
   "cell_type": "code",
   "execution_count": null,
   "metadata": {},
   "outputs": [],
   "source": []
  }
 ]
}