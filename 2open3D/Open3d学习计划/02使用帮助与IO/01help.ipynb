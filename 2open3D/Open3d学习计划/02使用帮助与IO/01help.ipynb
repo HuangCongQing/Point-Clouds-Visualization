{
 "metadata": {
  "language_info": {
   "codemirror_mode": {
    "name": "ipython",
    "version": 3
   },
   "file_extension": ".py",
   "mimetype": "text/x-python",
   "name": "python",
   "nbconvert_exporter": "python",
   "pygments_lexer": "ipython3",
   "version": "3.6.12"
  },
  "orig_nbformat": 2,
  "kernelspec": {
   "name": "python3612jvsc74a57bd09e448ea22042ddd26567fb390bbbe4eeefe3b92c7642735c8d963670b078654d",
   "display_name": "Python 3.6.12 64-bit ('common': conda)"
  },
  "metadata": {
   "interpreter": {
    "hash": "9e448ea22042ddd26567fb390bbbe4eeefe3b92c7642735c8d963670b078654d"
   }
  }
 },
 "nbformat": 4,
 "nbformat_minor": 2,
 "cells": [
  {
   "source": [
    "## Python接口"
   ],
   "cell_type": "markdown",
   "metadata": {}
  },
  {
   "cell_type": "code",
   "execution_count": 3,
   "metadata": {},
   "outputs": [
    {
     "output_type": "stream",
     "name": "stdout",
     "text": [
      "PointCloud with 7187 points.\n"
     ]
    }
   ],
   "source": [
    "import open3d as o3d   #导入open3d\n",
    "pcd = o3d.io.read_point_cloud(\"/home/hcq/python/Point-Clouds-Visualization/2open3D/data/merge_with_pedestrian1.pcd\")\n",
    "print(pcd)\n",
    "##打印: geometry::PointCloud with 198835 points."
   ]
  },
  {
   "source": [
    "这里是从open3d模块中导入read_point_cloud函数，该函数可以读取点云文件并返回一个Pointcloud实例。print(pcd)可以打印点云的简略信息。"
   ],
   "cell_type": "markdown",
   "metadata": {}
  },
  {
   "source": [
    "##  使用内置的帮助功能\n",
    "help(o3d)可以打印open3d模块文件"
   ],
   "cell_type": "markdown",
   "metadata": {}
  },
  {
   "cell_type": "code",
   "execution_count": 5,
   "metadata": {},
   "outputs": [
    {
     "output_type": "stream",
     "name": "stdout",
     "text": [
      "Help on package open3d:\n\nNAME\n    open3d\n\nDESCRIPTION\n    # ----------------------------------------------------------------------------\n    # -                        Open3D: www.open3d.org                            -\n    # ----------------------------------------------------------------------------\n    # The MIT License (MIT)\n    #\n    # Copyright (c) 2018 www.open3d.org\n    #\n    # Permission is hereby granted, free of charge, to any person obtaining a copy\n    # of this software and associated documentation files (the \"Software\"), to deal\n    # in the Software without restriction, including without limitation the rights\n    # to use, copy, modify, merge, publish, distribute, sublicense, and/or sell\n    # copies of the Software, and to permit persons to whom the Software is\n    # furnished to do so, subject to the following conditions:\n    #\n    # The above copyright notice and this permission notice shall be included in\n    # all copies or substantial portions of the Software.\n    #\n    # THE SOFTWARE IS PROVIDED \"AS IS\", WITHOUT WARRANTY OF ANY KIND, EXPRESS OR\n    # IMPLIED, INCLUDING BUT NOT LIMITED TO THE WARRANTIES OF MERCHANTABILITY,\n    # FITNESS FOR A PARTICULAR PURPOSE AND NONINFRINGEMENT. IN NO EVENT SHALL THE\n    # AUTHORS OR COPYRIGHT HOLDERS BE LIABLE FOR ANY CLAIM, DAMAGES OR OTHER\n    # LIABILITY, WHETHER IN AN ACTION OF CONTRACT, TORT OR OTHERWISE, ARISING\n    # FROM, OUT OF OR IN CONNECTION WITH THE SOFTWARE OR THE USE OR OTHER DEALINGS\n    # IN THE SOFTWARE.\n    # ----------------------------------------------------------------------------\n\nPACKAGE CONTENTS\n    _build_config\n    _ml3d (package)\n    core\n    j_visualizer\n    ml (package)\n    visualization (package)\n\nSUBMODULES\n    camera\n    cuda\n    geometry\n    io\n    pipelines\n    pybind\n    t\n    utility\n\nDATA\n    __DEVICE_API__ = 'cuda'\n\nVERSION\n    0.11.2\n\nFILE\n    /home/hcq/.conda/envs/common/lib/python3.6/site-packages/open3d/__init__.py\n\n\n"
     ]
    }
   ],
   "source": [
    "help(o3d)"
   ]
  },
  {
   "cell_type": "code",
   "execution_count": null,
   "metadata": {},
   "outputs": [],
   "source": []
  }
 ]
}