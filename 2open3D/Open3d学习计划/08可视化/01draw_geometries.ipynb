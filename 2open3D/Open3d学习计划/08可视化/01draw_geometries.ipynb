{
 "metadata": {
  "language_info": {
   "codemirror_mode": {
    "name": "ipython",
    "version": 3
   },
   "file_extension": ".py",
   "mimetype": "text/x-python",
   "name": "python",
   "nbconvert_exporter": "python",
   "pygments_lexer": "ipython3",
   "version": "3.6.12"
  },
  "orig_nbformat": 2,
  "kernelspec": {
   "name": "python3612jvsc74a57bd09e448ea22042ddd26567fb390bbbe4eeefe3b92c7642735c8d963670b078654d",
   "display_name": "Python 3.6.12 64-bit ('common': conda)"
  },
  "metadata": {
   "interpreter": {
    "hash": "9e448ea22042ddd26567fb390bbbe4eeefe3b92c7642735c8d963670b078654d"
   }
  }
 },
 "nbformat": 4,
 "nbformat_minor": 2,
 "cells": [
  {
   "source": [
    "#可视化  \n",
    "https://blog.csdn.net/io569417668/article/details/107013386"
   ],
   "cell_type": "markdown",
   "metadata": {}
  },
  {
   "source": [
    "## draw_geometries函数\n",
    "Opene3d提供了一个方便的可视化函数draw_geometries，他接受一组几何对象（PointCloud，TriangleMesh或者Image），并且一起渲染他们。我们在可视化界面提供了许多功能，例如通过鼠标的缩放，旋转和平移，改变渲染风格和屏幕截图。在窗口界面按 h 打印出全部的函数列表。"
   ],
   "cell_type": "markdown",
   "metadata": {}
  },
  {
   "cell_type": "code",
   "execution_count": null,
   "metadata": {},
   "outputs": [],
   "source": []
  },
  {
   "source": [
    "import open3d as o3d\n",
    "\n",
    "print(\"Load a ply point cloud, print it, and render it\")\n",
    "pcd = o3d.io.read_point_cloud(\"/home/hcq/python/Point-Clouds-Visualization/2open3D/data/fragment.ply\")\n",
    "o3d.visualization.draw_geometries([pcd], zoom=0.3412,\n",
    "                                  front=[0.4257, -0.2125, -0.8795],\n",
    "                                  lookat=[2.6172, 2.0475, 1.532],\n",
    "                                  up=[-0.0694, -0.9768, 0.2024])"
   ],
   "cell_type": "code",
   "metadata": {},
   "execution_count": 3,
   "outputs": [
    {
     "output_type": "stream",
     "name": "stdout",
     "text": [
      "Load a ply point cloud, print it, and render it\n"
     ]
    }
   ]
  },
  {
   "cell_type": "code",
   "execution_count": null,
   "metadata": {},
   "outputs": [],
   "source": []
  }
 ]
}